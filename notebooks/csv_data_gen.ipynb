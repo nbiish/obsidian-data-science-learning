{
  "nbformat": 4,
  "nbformat_minor": 0,
  "metadata": {
    "colab": {
      "provenance": [],
      "authorship_tag": "ABX9TyPA2J/5yzMkjM1BBK1f822W",
      "include_colab_link": true
    },
    "kernelspec": {
      "name": "python3",
      "display_name": "Python 3"
    },
    "language_info": {
      "name": "python"
    }
  },
  "cells": [
    {
      "cell_type": "markdown",
      "metadata": {
        "id": "view-in-github",
        "colab_type": "text"
      },
      "source": [
        "<a href=\"https://colab.research.google.com/github/nbiish/obsidian-data-science-learning/blob/main/notebooks/csv_data_gen.ipynb\" target=\"_parent\"><img src=\"https://colab.research.google.com/assets/colab-badge.svg\" alt=\"Open In Colab\"/></a>"
      ]
    },
    {
      "cell_type": "code",
      "source": [
        "%pip install faker"
      ],
      "metadata": {
        "colab": {
          "base_uri": "https://localhost:8080/"
        },
        "id": "32cAYd2nvsnk",
        "outputId": "906771b5-7e5f-4825-f5ea-6e5105fa9258"
      },
      "execution_count": 1,
      "outputs": [
        {
          "output_type": "stream",
          "name": "stdout",
          "text": [
            "Collecting faker\n",
            "  Downloading Faker-26.0.0-py3-none-any.whl (1.8 MB)\n",
            "\u001b[2K     \u001b[90m━━━━━━━━━━━━━━━━━━━━━━━━━━━━━━━━━━━━━━━━\u001b[0m \u001b[32m1.8/1.8 MB\u001b[0m \u001b[31m6.8 MB/s\u001b[0m eta \u001b[36m0:00:00\u001b[0m\n",
            "\u001b[?25hRequirement already satisfied: python-dateutil>=2.4 in /usr/local/lib/python3.10/dist-packages (from faker) (2.8.2)\n",
            "Requirement already satisfied: six>=1.5 in /usr/local/lib/python3.10/dist-packages (from python-dateutil>=2.4->faker) (1.16.0)\n",
            "Installing collected packages: faker\n",
            "Successfully installed faker-26.0.0\n"
          ]
        }
      ]
    },
    {
      "cell_type": "code",
      "execution_count": 4,
      "metadata": {
        "colab": {
          "base_uri": "https://localhost:8080/"
        },
        "id": "iqc3WILSviDP",
        "outputId": "c0e99d74-7315-488d-dd94-007e2c478626"
      },
      "outputs": [
        {
          "output_type": "stream",
          "name": "stdout",
          "text": [
            "\n",
            "\n",
            "CSV file 'michigan_synthetic_data.csv' has been created with 5000 rows of synthetic data.\n"
          ]
        }
      ],
      "source": [
        "import csv\n",
        "import random\n",
        "from faker import Faker\n",
        "\n",
        "# Initialize Faker\n",
        "fake = Faker()\n",
        "\n",
        "# Michigan cities in Upper and Lower Peninsula\n",
        "michigan_cities = {\n",
        "    'Upper Peninsula': ['Marquette', 'Escanaba', 'Sault Ste. Marie', 'Houghton', 'Iron Mountain'],\n",
        "    'Lower Peninsula': ['Detroit', 'Grand Rapids', 'Lansing', 'Ann Arbor', 'Kalamazoo', 'Flint', 'Traverse City', 'Petoskey']\n",
        "}\n",
        "\n",
        "# Generate data\n",
        "data = []\n",
        "for _ in range(5000):\n",
        "    peninsula = random.choice(['Upper Peninsula', 'Lower Peninsula'])\n",
        "    city = random.choice(michigan_cities[peninsula])\n",
        "\n",
        "    row = [\n",
        "        fake.first_name(),\n",
        "        fake.last_name(),\n",
        "        f\"{fake.building_number()} {fake.street_name()}, {city}, MI {fake.zipcode_in_state('MI')}\",\n",
        "        random.choice('ABCDEFGHIJKLM')\n",
        "    ]\n",
        "    data.append(row)\n",
        "\n",
        "# Write to CSV\n",
        "with open('michigan_synthetic_data.csv', 'w', newline='') as file:\n",
        "    writer = csv.writer(file)\n",
        "    writer.writerow(['First Name', 'Last Name', 'Address', 'Tribal Alpha Code'])\n",
        "    writer.writerows(data)\n",
        "\n",
        "print(\"\\n\\nCSV file 'michigan_synthetic_data.csv' has been created with 5000 rows of synthetic data.\")"
      ]
    }
  ]
}